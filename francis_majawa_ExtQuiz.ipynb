{
 "cells": [
  {
   "cell_type": "markdown",
   "metadata": {},
   "source": [
    "# $$ \\text{Extended Quiz}$$\n",
    "\n"
   ]
  },
  {
   "cell_type": "markdown",
   "metadata": {},
   "source": [
    "# Exercise 1\n",
    "\n",
    "Write a program that asks the user for a positive integer $k$ and $n$,  and compute and displays the value of $$A = \\frac{1}{k}+ \\frac{1}{kk}+ \\frac{1}{kkk}+ \\frac{1}{kkkk}+\\frac{1}{kk...k},$$\n",
    "where the last term $kk...k$ has a length $n$. Test the program by inputing $2$ and $1$ for $k$ and $n$, respectively."
   ]
  },
  {
   "cell_type": "code",
   "execution_count": 2,
   "metadata": {},
   "outputs": [
    {
     "name": "stdout",
     "output_type": "stream",
     "text": [
      "The value of A is 0.5\n"
     ]
    }
   ],
   "source": [
    "k = input(\"Enter a positive integer: \")\n",
    "n = eval(input(\"Enter a positive integer: \"))\n",
    "\n",
    "A = 0\n",
    "\n",
    "for i in range(1,n+1):\n",
    "    A += 1/int(k*i)\n",
    "\n",
    "print(\"The value of A is\", A)"
   ]
  },
  {
   "cell_type": "markdown",
   "metadata": {},
   "source": [
    "# Exercise 2\n",
    "\n",
    "1. Write a function called <b>showEmployee</b> in such a way that it should accept employee name and its salary and display both. For axemaple, <b>showEmployee(\"John\",100000)</b> must return <b>\"Employee John's salary is 100000\"</b>.\n",
    "if the salary is not given, the function <b>showEmployee</b> must consider 50000 as the salary."
   ]
  },
  {
   "cell_type": "code",
   "execution_count": 3,
   "metadata": {},
   "outputs": [],
   "source": [
    "def showEmployee(name, salary=50000):\n",
    "    print(\"Employee {}'s salary is {:,}\".format(name, salary))"
   ]
  },
  {
   "cell_type": "markdown",
   "metadata": {},
   "source": [
    "2. Test the fuction <b>showEmployee</b> by using only your name as string."
   ]
  },
  {
   "cell_type": "code",
   "execution_count": 4,
   "metadata": {},
   "outputs": [
    {
     "name": "stdout",
     "output_type": "stream",
     "text": [
      "Employee Francis's salary is 100,000\n"
     ]
    }
   ],
   "source": [
    "showEmployee(name='Francis', salary=100000)"
   ]
  },
  {
   "cell_type": "markdown",
   "metadata": {},
   "source": [
    "# Exercise 3\n",
    "Write a function called <b>Root_Power</b> that is given a positive number $x$ and a positive integer $n$ and returns $x^{1/n}$ and $x^n$. In\n",
    "the function definition, set the default value of $n$ to $2$. Test the function <b>Root_Power</b> by inputing only $x=49$"
   ]
  },
  {
   "cell_type": "code",
   "execution_count": 5,
   "metadata": {},
   "outputs": [
    {
     "name": "stdout",
     "output_type": "stream",
     "text": [
      "The root power of 49 is (7.0, 2401)\n"
     ]
    }
   ],
   "source": [
    "def Root_Power(x,n=2):\n",
    "    return np.power(x, 1/n), np.power(x,n)\n",
    "\n",
    "x=49\n",
    "print(f'The root power of {x} is ' + str(Root_Power(x)))"
   ]
  },
  {
   "cell_type": "markdown",
   "metadata": {},
   "source": [
    "# Exercise 4\n",
    "1. Write a Python function called <b>OddNum</b> that  returns the list of odd numbers from a given list."
   ]
  },
  {
   "cell_type": "code",
   "execution_count": 6,
   "metadata": {},
   "outputs": [],
   "source": [
    "def OddNum(list_):\n",
    "    list_ = np.array(list_)\n",
    "    list_ = list_[list_ % 2 != 0]\n",
    "    return list_"
   ]
  },
  {
   "cell_type": "markdown",
   "metadata": {},
   "source": [
    "2. Test the function <b>OddNum</b> by using the list $[-14, 45.5,27,0,-4,7]$"
   ]
  },
  {
   "cell_type": "code",
   "execution_count": 7,
   "metadata": {},
   "outputs": [
    {
     "name": "stdout",
     "output_type": "stream",
     "text": [
      "[45.5 27.   7. ]\n"
     ]
    }
   ],
   "source": [
    "list_ = [-14, 45.5,27,0,-4,7]\n",
    "\n",
    "print(OddNum(list_))"
   ]
  },
  {
   "cell_type": "markdown",
   "metadata": {},
   "source": [
    "# Exercise 5\n",
    "\n",
    "1. Write a function called <b>SolveQuadratic</b> that takes three real numbers $a\\neq 0$, $b$, $c$ and  returns the list of the solutions in <b>R</b> of the quadratic equation $ax^2 + bx + c = 0.$ "
   ]
  },
  {
   "cell_type": "code",
   "execution_count": 8,
   "metadata": {},
   "outputs": [],
   "source": [
    "def SolveQuadratic(a,b,c):\n",
    "    sol = \"{}\"\n",
    "    if delta := (np.power(b,2) - 4 * a * c) >= 0:\n",
    "        x1 = (-b + np.sqrt(delta)) / (2 * a)\n",
    "        x2 = (-b - np.sqrt(delta)) / (2 * a)\n",
    "        sol = set([x1, x2])\n",
    "    return sol"
   ]
  },
  {
   "cell_type": "markdown",
   "metadata": {},
   "source": [
    "2. Print the output of <b>SolveQuadratic</b> when\n",
    "    - $a = 2, b=0, c=-8$\n",
    "    - $a = 2, b=0, c=8$\n",
    "    - $a = 1, b=2, c=1$"
   ]
  },
  {
   "cell_type": "code",
   "execution_count": 9,
   "metadata": {},
   "outputs": [
    {
     "name": "stdout",
     "output_type": "stream",
     "text": [
      "{0.25, -0.25}\n",
      "{}\n",
      "{-0.5, -1.5}\n"
     ]
    }
   ],
   "source": [
    "print(SolveQuadratic(2,0,-8))\n",
    "print(SolveQuadratic(2,0,8))\n",
    "print(SolveQuadratic(1,2,1))"
   ]
  },
  {
   "cell_type": "markdown",
   "metadata": {},
   "source": [
    "# Exercise 6\n",
    "1. Write a function called <b>FunDig</b> that takes an integer  $n$ and returns the sum of the cubes of it’s digits.\n",
    "For example, <b>FunDig</b>$(203)$ must compute $ 2^3 + 0^3 + 3^3 $ and return $35$.\n"
   ]
  },
  {
   "cell_type": "code",
   "execution_count": 10,
   "metadata": {},
   "outputs": [],
   "source": [
    "def FunDig(n):\n",
    "    n = list(str(n))\n",
    "    n = list(map(int, n))\n",
    "    n = np.power(np.array(n), 3)\n",
    "\n",
    "    return n.sum()"
   ]
  },
  {
   "cell_type": "markdown",
   "metadata": {},
   "source": [
    "2. Write a python code to find all integers $n$ below 1000 such that <b>FunDig</b>$(n) > n$. "
   ]
  },
  {
   "cell_type": "code",
   "execution_count": 12,
   "metadata": {},
   "outputs": [
    {
     "data": {
      "text/plain": [
       "array([  2,   3,   4,   5,   6,   7,   8,   9,  13,  14,  15,  16,  17,\n",
       "        18,  19,  23,  24,  25,  26,  27,  28,  29,  32,  33,  34,  35,\n",
       "        36,  37,  38,  39,  40,  41,  42,  43,  44,  45,  46,  47,  48,\n",
       "        49,  50,  51,  52,  53,  54,  55,  56,  57,  58,  59,  60,  61,\n",
       "        62,  63,  64,  65,  66,  67,  68,  69,  70,  71,  72,  73,  74,\n",
       "        75,  76,  77,  78,  79,  80,  81,  82,  83,  84,  85,  86,  87,\n",
       "        88,  89,  90,  91,  92,  93,  94,  95,  96,  97,  98,  99, 105,\n",
       "       106, 107, 108, 109, 115, 116, 117, 118, 119, 125, 126, 127, 128,\n",
       "       129, 135, 136, 137, 138, 139, 145, 146, 147, 148, 149, 154, 155,\n",
       "       156, 157, 158, 159, 160, 161, 162, 163, 164, 165, 166, 167, 168,\n",
       "       169, 170, 171, 172, 173, 174, 175, 176, 177, 178, 179, 180, 181,\n",
       "       182, 183, 184, 185, 186, 187, 188, 189, 190, 191, 192, 193, 194,\n",
       "       195, 196, 197, 198, 199, 206, 207, 208, 209, 216, 217, 218, 219,\n",
       "       226, 227, 228, 229, 236, 237, 238, 239, 246, 247, 248, 249, 255,\n",
       "       256, 257, 258, 259, 264, 265, 266, 267, 268, 269, 270, 271, 272,\n",
       "       273, 274, 275, 276, 277, 278, 279, 280, 281, 282, 283, 284, 285,\n",
       "       286, 287, 288, 289, 290, 291, 292, 293, 294, 295, 296, 297, 298,\n",
       "       299, 307, 308, 309, 317, 318, 319, 327, 328, 329, 337, 338, 339,\n",
       "       347, 348, 349, 356, 357, 358, 359, 365, 366, 367, 368, 369, 372,\n",
       "       373, 374, 375, 376, 377, 378, 379, 380, 381, 382, 383, 384, 385,\n",
       "       386, 387, 388, 389, 390, 391, 392, 393, 394, 395, 396, 397, 398,\n",
       "       399, 408, 409, 418, 419, 428, 429, 438, 439, 447, 448, 449, 457,\n",
       "       458, 459, 466, 467, 468, 469, 475, 476, 477, 478, 479, 480, 481,\n",
       "       482, 483, 484, 485, 486, 487, 488, 489, 490, 491, 492, 493, 494,\n",
       "       495, 496, 497, 498, 499, 508, 509, 518, 519, 528, 529, 538, 539,\n",
       "       548, 549, 557, 558, 559, 567, 568, 569, 575, 576, 577, 578, 579,\n",
       "       580, 581, 582, 583, 584, 585, 586, 587, 588, 589, 590, 591, 592,\n",
       "       593, 594, 595, 596, 597, 598, 599, 608, 609, 618, 619, 628, 629,\n",
       "       638, 639, 648, 649, 657, 658, 659, 667, 668, 669, 675, 676, 677,\n",
       "       678, 679, 680, 681, 682, 683, 684, 685, 686, 687, 688, 689, 690,\n",
       "       691, 692, 693, 694, 695, 696, 697, 698, 699, 708, 709, 718, 719,\n",
       "       728, 729, 738, 739, 747, 748, 749, 757, 758, 759, 766, 767, 768,\n",
       "       769, 775, 776, 777, 778, 779, 780, 781, 782, 783, 784, 785, 786,\n",
       "       787, 788, 789, 790, 791, 792, 793, 794, 795, 796, 797, 798, 799,\n",
       "       807, 808, 809, 817, 818, 819, 827, 828, 829, 837, 838, 839, 847,\n",
       "       848, 849, 857, 858, 859, 866, 867, 868, 869, 873, 874, 875, 876,\n",
       "       877, 878, 879, 880, 881, 882, 883, 884, 885, 886, 887, 888, 889,\n",
       "       890, 891, 892, 893, 894, 895, 896, 897, 898, 899, 906, 907, 908,\n",
       "       909, 916, 917, 918, 919, 926, 927, 928, 929, 936, 937, 938, 939,\n",
       "       946, 947, 948, 949, 955, 956, 957, 958, 959, 963, 964, 965, 966,\n",
       "       967, 968, 969, 970, 971, 972, 973, 974, 975, 976, 977, 978, 979,\n",
       "       980, 981, 982, 983, 984, 985, 986, 987, 988, 989, 990, 991, 992,\n",
       "       993, 994, 995, 996, 997, 998, 999])"
      ]
     },
     "execution_count": 12,
     "metadata": {},
     "output_type": "execute_result"
    }
   ],
   "source": [
    "list_integers = np.arange(1,1000)\n",
    "\n",
    "FunDig_vectorized = np.vectorize(FunDig)\n",
    "\n",
    "list_integers[FunDig_vectorized(list_integers) > list_integers]"
   ]
  },
  {
   "cell_type": "markdown",
   "metadata": {},
   "source": [
    "# Exercise 7\n",
    "\n",
    "Recall that if <b>s</b> is a string, then <b>s.find('a')</b> will find the location of the first a in <b>s</b>. The\n",
    "problem is that it does not find the location of every a. Write a function called <b>findall</b> that\n",
    "given a string and a single character, returns a list containing all of the locations of that character\n",
    "in the string. It should return an empty list if there are no occurrences of the character\n",
    "in the string."
   ]
  },
  {
   "cell_type": "code",
   "execution_count": 14,
   "metadata": {},
   "outputs": [],
   "source": [
    "def findall(s, a):\n",
    "    locations = list()\n",
    "    for i in range(len(s)):\n",
    "        if s[i] == a:\n",
    "            locations.append(i)\n",
    "    return locations"
   ]
  },
  {
   "cell_type": "markdown",
   "metadata": {},
   "source": [
    "# Exercise 8\n",
    "\n",
    "1. Write a function called <b>List_of_factors</b> that takes a positive integer $n$ and returns a list of all the factors of $n$. Test this function by printint the output of <b>List_of_factors</b> for $n=15$"
   ]
  },
  {
   "cell_type": "code",
   "execution_count": 18,
   "metadata": {},
   "outputs": [
    {
     "name": "stdout",
     "output_type": "stream",
     "text": [
      "The factors of 15 are: [1, 3, 5, 15]\n"
     ]
    }
   ],
   "source": [
    "def List_of_factors(n):\n",
    "    list_ =  [i for i in range(1, (n//2) + 1) if n % i== 0]\n",
    "    list_.append(n)\n",
    "    return list_\n",
    "\n",
    "n = 15\n",
    "\n",
    "print(f'The factors of {n} are: {List_of_factors(15)}')"
   ]
  },
  {
   "cell_type": "markdown",
   "metadata": {},
   "source": [
    "2. Using <b>List_of_factors</b>, write a Python function called <b>IsPrime</b> that takes a positive integer $n$  as a argument and returs the boolean <b>True</b> if $n$ is a prime number otherwise it returns the boolean <b> False</b>. Test this function by printing the output of <b>IsPrime</b> for  $n=15$ and $n=97$.\n",
    "\n",
    "    Note : A prime number (or a prime) is a natural number greater than 1 and that has no positive divisors other than 1 and itself."
   ]
  },
  {
   "cell_type": "code",
   "execution_count": 20,
   "metadata": {},
   "outputs": [
    {
     "name": "stdout",
     "output_type": "stream",
     "text": [
      "Is 15 a Prime Number? False\n",
      "Is 97 a Prime Number? True\n"
     ]
    }
   ],
   "source": [
    "def IsPrime(n):\n",
    "    return len(List_of_factors(n)) == 2\n",
    "\n",
    "n1 = 15\n",
    "n2 = 97\n",
    "\n",
    "print(f'Is {n1} a Prime Number? {IsPrime(n1)}')\n",
    "print(f'Is {n2} a Prime Number? {IsPrime(n2)}')"
   ]
  },
  {
   "cell_type": "markdown",
   "metadata": {},
   "source": [
    "3. Using <b>IsPrime</b>, write the function <b>primes_start</b> that takes two positive integers $n$, $start$ and return a list of the first n primes that are greater than or equal to $start$. The default value of $start$ should be $2$."
   ]
  },
  {
   "cell_type": "code",
   "execution_count": 28,
   "metadata": {},
   "outputs": [],
   "source": [
    "def primes_start(n: int, start: int = 2) -> list:\n",
    "    \"\"\"\n",
    "        Returns a list of primes from start to n.\n",
    "    \"\"\"\n",
    "    primes = []\n",
    "    for i in range(start, n+1):\n",
    "        if IsPrime(i):\n",
    "            primes.append(i)\n",
    "    return primes"
   ]
  }
 ],
 "metadata": {
  "kernelspec": {
   "display_name": "Python 3.10.6 ('env')",
   "language": "python",
   "name": "python3"
  },
  "language_info": {
   "codemirror_mode": {
    "name": "ipython",
    "version": 3
   },
   "file_extension": ".py",
   "mimetype": "text/x-python",
   "name": "python",
   "nbconvert_exporter": "python",
   "pygments_lexer": "ipython3",
   "version": "3.10.6"
  },
  "vscode": {
   "interpreter": {
    "hash": "c88bf67ae02dc634679598040b9d6841de42c21c6b16925351d57193996d62ef"
   }
  }
 },
 "nbformat": 4,
 "nbformat_minor": 4
}
